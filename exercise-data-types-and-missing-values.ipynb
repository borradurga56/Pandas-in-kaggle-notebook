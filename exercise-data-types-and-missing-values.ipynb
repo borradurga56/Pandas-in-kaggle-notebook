{
 "cells": [
  {
   "cell_type": "markdown",
   "id": "4dd6d126",
   "metadata": {
    "papermill": {
     "duration": 0.003403,
     "end_time": "2025-05-18T06:24:08.798054",
     "exception": false,
     "start_time": "2025-05-18T06:24:08.794651",
     "status": "completed"
    },
    "tags": []
   },
   "source": [
    "**This notebook is an exercise in the [Pandas](https://www.kaggle.com/learn/pandas) course.  You can reference the tutorial at [this link](https://www.kaggle.com/residentmario/data-types-and-missing-values).**\n",
    "\n",
    "---\n"
   ]
  },
  {
   "cell_type": "markdown",
   "id": "66dc58e9",
   "metadata": {
    "papermill": {
     "duration": 0.002024,
     "end_time": "2025-05-18T06:24:08.802487",
     "exception": false,
     "start_time": "2025-05-18T06:24:08.800463",
     "status": "completed"
    },
    "tags": []
   },
   "source": [
    "# Introduction\n",
    "\n",
    "Run the following cell to load your data and some utility functions."
   ]
  },
  {
   "cell_type": "code",
   "execution_count": 1,
   "id": "3f0778e3",
   "metadata": {
    "execution": {
     "iopub.execute_input": "2025-05-18T06:24:08.808057Z",
     "iopub.status.busy": "2025-05-18T06:24:08.807819Z",
     "iopub.status.idle": "2025-05-18T06:24:12.415797Z",
     "shell.execute_reply": "2025-05-18T06:24:12.415166Z"
    },
    "papermill": {
     "duration": 3.612037,
     "end_time": "2025-05-18T06:24:12.416761",
     "exception": false,
     "start_time": "2025-05-18T06:24:08.804724",
     "status": "completed"
    },
    "tags": []
   },
   "outputs": [
    {
     "name": "stdout",
     "output_type": "stream",
     "text": [
      "Setup complete.\n"
     ]
    }
   ],
   "source": [
    "import pandas as pd\n",
    "\n",
    "reviews = pd.read_csv(\"../input/wine-reviews/winemag-data-130k-v2.csv\", index_col=0)\n",
    "\n",
    "from learntools.core import binder; binder.bind(globals())\n",
    "from learntools.pandas.data_types_and_missing_data import *\n",
    "print(\"Setup complete.\")"
   ]
  },
  {
   "cell_type": "markdown",
   "id": "5cb7df66",
   "metadata": {
    "papermill": {
     "duration": 0.002194,
     "end_time": "2025-05-18T06:24:12.421527",
     "exception": false,
     "start_time": "2025-05-18T06:24:12.419333",
     "status": "completed"
    },
    "tags": []
   },
   "source": [
    "# Exercises"
   ]
  },
  {
   "cell_type": "markdown",
   "id": "0b0dae25",
   "metadata": {
    "papermill": {
     "duration": 0.002006,
     "end_time": "2025-05-18T06:24:12.425705",
     "exception": false,
     "start_time": "2025-05-18T06:24:12.423699",
     "status": "completed"
    },
    "tags": []
   },
   "source": [
    "## 1. \n",
    "What is the data type of the `points` column in the dataset?"
   ]
  },
  {
   "cell_type": "code",
   "execution_count": 2,
   "id": "67ccd10b",
   "metadata": {
    "execution": {
     "iopub.execute_input": "2025-05-18T06:24:12.430926Z",
     "iopub.status.busy": "2025-05-18T06:24:12.430713Z",
     "iopub.status.idle": "2025-05-18T06:24:12.439224Z",
     "shell.execute_reply": "2025-05-18T06:24:12.438677Z"
    },
    "papermill": {
     "duration": 0.012279,
     "end_time": "2025-05-18T06:24:12.440130",
     "exception": false,
     "start_time": "2025-05-18T06:24:12.427851",
     "status": "completed"
    },
    "tags": []
   },
   "outputs": [
    {
     "data": {
      "application/javascript": [
       "parent.postMessage({\"jupyterEvent\": \"custom.exercise_interaction\", \"data\": {\"outcomeType\": 1, \"valueTowardsCompletion\": 0.25, \"interactionType\": 1, \"questionType\": 1, \"questionId\": \"1_PointsDtype\", \"learnToolsVersion\": \"0.3.5\", \"failureMessage\": \"\", \"exceptionClass\": \"\", \"trace\": \"\"}}, \"*\")"
      ],
      "text/plain": [
       "<IPython.core.display.Javascript object>"
      ]
     },
     "metadata": {},
     "output_type": "display_data"
    },
    {
     "data": {
      "text/markdown": [
       "<span style=\"color:#33cc33\">Correct</span>"
      ],
      "text/plain": [
       "Correct"
      ]
     },
     "metadata": {},
     "output_type": "display_data"
    },
    {
     "data": {
      "text/plain": [
       "dtype('int64')"
      ]
     },
     "execution_count": 2,
     "metadata": {},
     "output_type": "execute_result"
    }
   ],
   "source": [
    "dtype = reviews.points.dtype\n",
    "\n",
    "# Check your answer\n",
    "q1.check()\n",
    "dtype"
   ]
  },
  {
   "cell_type": "code",
   "execution_count": 3,
   "id": "460d3a62",
   "metadata": {
    "execution": {
     "iopub.execute_input": "2025-05-18T06:24:12.445901Z",
     "iopub.status.busy": "2025-05-18T06:24:12.445698Z",
     "iopub.status.idle": "2025-05-18T06:24:12.448449Z",
     "shell.execute_reply": "2025-05-18T06:24:12.447990Z"
    },
    "papermill": {
     "duration": 0.006692,
     "end_time": "2025-05-18T06:24:12.449441",
     "exception": false,
     "start_time": "2025-05-18T06:24:12.442749",
     "status": "completed"
    },
    "tags": []
   },
   "outputs": [],
   "source": [
    "#q1.hint()\n",
    "#q1.solution()"
   ]
  },
  {
   "cell_type": "markdown",
   "id": "665c2d9d",
   "metadata": {
    "papermill": {
     "duration": 0.00223,
     "end_time": "2025-05-18T06:24:12.454209",
     "exception": false,
     "start_time": "2025-05-18T06:24:12.451979",
     "status": "completed"
    },
    "tags": []
   },
   "source": [
    "## 2. \n",
    "Create a Series from entries in the `points` column, but convert the entries to strings. Hint: strings are `str` in native Python."
   ]
  },
  {
   "cell_type": "code",
   "execution_count": 4,
   "id": "8e82877a",
   "metadata": {
    "execution": {
     "iopub.execute_input": "2025-05-18T06:24:12.459622Z",
     "iopub.status.busy": "2025-05-18T06:24:12.459412Z",
     "iopub.status.idle": "2025-05-18T06:24:12.490034Z",
     "shell.execute_reply": "2025-05-18T06:24:12.489550Z"
    },
    "papermill": {
     "duration": 0.03447,
     "end_time": "2025-05-18T06:24:12.490997",
     "exception": false,
     "start_time": "2025-05-18T06:24:12.456527",
     "status": "completed"
    },
    "tags": []
   },
   "outputs": [
    {
     "data": {
      "application/javascript": [
       "parent.postMessage({\"jupyterEvent\": \"custom.exercise_interaction\", \"data\": {\"outcomeType\": 1, \"valueTowardsCompletion\": 0.25, \"interactionType\": 1, \"questionType\": 1, \"questionId\": \"2_StrPoints\", \"learnToolsVersion\": \"0.3.5\", \"failureMessage\": \"\", \"exceptionClass\": \"\", \"trace\": \"\"}}, \"*\")"
      ],
      "text/plain": [
       "<IPython.core.display.Javascript object>"
      ]
     },
     "metadata": {},
     "output_type": "display_data"
    },
    {
     "data": {
      "text/markdown": [
       "<span style=\"color:#33cc33\">Correct</span>"
      ],
      "text/plain": [
       "Correct"
      ]
     },
     "metadata": {},
     "output_type": "display_data"
    },
    {
     "data": {
      "text/plain": [
       "0         87\n",
       "1         87\n",
       "2         87\n",
       "3         87\n",
       "4         87\n",
       "          ..\n",
       "129966    90\n",
       "129967    90\n",
       "129968    90\n",
       "129969    90\n",
       "129970    90\n",
       "Name: points, Length: 129971, dtype: object"
      ]
     },
     "execution_count": 4,
     "metadata": {},
     "output_type": "execute_result"
    }
   ],
   "source": [
    "point_strings = reviews.points.astype('str')\n",
    "\n",
    "# Check your answer\n",
    "q2.check()\n",
    "point_strings"
   ]
  },
  {
   "cell_type": "code",
   "execution_count": 5,
   "id": "073130cc",
   "metadata": {
    "execution": {
     "iopub.execute_input": "2025-05-18T06:24:12.497509Z",
     "iopub.status.busy": "2025-05-18T06:24:12.497290Z",
     "iopub.status.idle": "2025-05-18T06:24:12.499952Z",
     "shell.execute_reply": "2025-05-18T06:24:12.499352Z"
    },
    "papermill": {
     "duration": 0.007077,
     "end_time": "2025-05-18T06:24:12.501030",
     "exception": false,
     "start_time": "2025-05-18T06:24:12.493953",
     "status": "completed"
    },
    "tags": []
   },
   "outputs": [],
   "source": [
    "#q2.hint()\n",
    "#q2.solution()"
   ]
  },
  {
   "cell_type": "markdown",
   "id": "cb4070c8",
   "metadata": {
    "papermill": {
     "duration": 0.002466,
     "end_time": "2025-05-18T06:24:12.506096",
     "exception": false,
     "start_time": "2025-05-18T06:24:12.503630",
     "status": "completed"
    },
    "tags": []
   },
   "source": [
    "## 3.\n",
    "Sometimes the price column is null. How many reviews in the dataset are missing a price?"
   ]
  },
  {
   "cell_type": "code",
   "execution_count": 6,
   "id": "5626aa5d",
   "metadata": {
    "execution": {
     "iopub.execute_input": "2025-05-18T06:24:12.512121Z",
     "iopub.status.busy": "2025-05-18T06:24:12.511929Z",
     "iopub.status.idle": "2025-05-18T06:24:12.518297Z",
     "shell.execute_reply": "2025-05-18T06:24:12.517767Z"
    },
    "papermill": {
     "duration": 0.010374,
     "end_time": "2025-05-18T06:24:12.519121",
     "exception": false,
     "start_time": "2025-05-18T06:24:12.508747",
     "status": "completed"
    },
    "tags": []
   },
   "outputs": [
    {
     "data": {
      "application/javascript": [
       "parent.postMessage({\"jupyterEvent\": \"custom.exercise_interaction\", \"data\": {\"outcomeType\": 1, \"valueTowardsCompletion\": 0.25, \"interactionType\": 1, \"questionType\": 1, \"questionId\": \"3_CountMissingPrices\", \"learnToolsVersion\": \"0.3.5\", \"failureMessage\": \"\", \"exceptionClass\": \"\", \"trace\": \"\"}}, \"*\")"
      ],
      "text/plain": [
       "<IPython.core.display.Javascript object>"
      ]
     },
     "metadata": {},
     "output_type": "display_data"
    },
    {
     "data": {
      "text/markdown": [
       "<span style=\"color:#33cc33\">Correct</span>"
      ],
      "text/plain": [
       "Correct"
      ]
     },
     "metadata": {},
     "output_type": "display_data"
    },
    {
     "data": {
      "text/plain": [
       "8996"
      ]
     },
     "execution_count": 6,
     "metadata": {},
     "output_type": "execute_result"
    }
   ],
   "source": [
    "n_missing_prices = reviews.price.isnull().sum()\n",
    "\n",
    "# Check your answer\n",
    "q3.check()\n",
    "n_missing_prices"
   ]
  },
  {
   "cell_type": "code",
   "execution_count": 7,
   "id": "5ae22c68",
   "metadata": {
    "execution": {
     "iopub.execute_input": "2025-05-18T06:24:12.525549Z",
     "iopub.status.busy": "2025-05-18T06:24:12.525376Z",
     "iopub.status.idle": "2025-05-18T06:24:12.527949Z",
     "shell.execute_reply": "2025-05-18T06:24:12.527417Z"
    },
    "papermill": {
     "duration": 0.006764,
     "end_time": "2025-05-18T06:24:12.528807",
     "exception": false,
     "start_time": "2025-05-18T06:24:12.522043",
     "status": "completed"
    },
    "tags": []
   },
   "outputs": [],
   "source": [
    "#q3.hint()\n",
    "#q3.solution()"
   ]
  },
  {
   "cell_type": "markdown",
   "id": "8c74f8c1",
   "metadata": {
    "papermill": {
     "duration": 0.002617,
     "end_time": "2025-05-18T06:24:12.534238",
     "exception": false,
     "start_time": "2025-05-18T06:24:12.531621",
     "status": "completed"
    },
    "tags": []
   },
   "source": [
    "## 4.\n",
    "What are the most common wine-producing regions? Create a Series counting the number of times each value occurs in the `region_1` field. This field is often missing data, so replace missing values with `Unknown`. Sort in descending order.  Your output should look something like this:\n",
    "\n",
    "```\n",
    "Unknown                    21247\n",
    "Napa Valley                 4480\n",
    "                           ...  \n",
    "Bardolino Superiore            1\n",
    "Primitivo del Tarantino        1\n",
    "Name: region_1, Length: 1230, dtype: int64\n",
    "```"
   ]
  },
  {
   "cell_type": "code",
   "execution_count": 8,
   "id": "8e0837d6",
   "metadata": {
    "execution": {
     "iopub.execute_input": "2025-05-18T06:24:12.540202Z",
     "iopub.status.busy": "2025-05-18T06:24:12.540010Z",
     "iopub.status.idle": "2025-05-18T06:24:12.575719Z",
     "shell.execute_reply": "2025-05-18T06:24:12.575292Z"
    },
    "papermill": {
     "duration": 0.03972,
     "end_time": "2025-05-18T06:24:12.576593",
     "exception": false,
     "start_time": "2025-05-18T06:24:12.536873",
     "status": "completed"
    },
    "tags": []
   },
   "outputs": [
    {
     "data": {
      "application/javascript": [
       "parent.postMessage({\"jupyterEvent\": \"custom.exercise_interaction\", \"data\": {\"outcomeType\": 1, \"valueTowardsCompletion\": 0.25, \"interactionType\": 1, \"questionType\": 2, \"questionId\": \"4_ReviewsPerRegion\", \"learnToolsVersion\": \"0.3.5\", \"failureMessage\": \"\", \"exceptionClass\": \"\", \"trace\": \"\"}}, \"*\")"
      ],
      "text/plain": [
       "<IPython.core.display.Javascript object>"
      ]
     },
     "metadata": {},
     "output_type": "display_data"
    },
    {
     "data": {
      "text/markdown": [
       "<span style=\"color:#33cc33\">Correct</span>"
      ],
      "text/plain": [
       "Correct"
      ]
     },
     "metadata": {},
     "output_type": "display_data"
    },
    {
     "data": {
      "text/plain": [
       "region_1\n",
       "Unknown                 21247\n",
       "Napa Valley              4480\n",
       "Columbia Valley (WA)     4124\n",
       "Russian River Valley     3091\n",
       "California               2629\n",
       "                        ...  \n",
       "Offida Rosso                1\n",
       "Corton Perrières            1\n",
       "Isle St. George             1\n",
       "Geelong                     1\n",
       "Paestum                     1\n",
       "Name: count, Length: 1230, dtype: int64"
      ]
     },
     "execution_count": 8,
     "metadata": {},
     "output_type": "execute_result"
    }
   ],
   "source": [
    "reviews_per_region = reviews.region_1.fillna('Unknown').value_counts().sort_values(ascending=False)\n",
    "# Check your answer\n",
    "q4.check()\n",
    "reviews_per_region\n"
   ]
  },
  {
   "cell_type": "code",
   "execution_count": 9,
   "id": "ef60cb3e",
   "metadata": {
    "execution": {
     "iopub.execute_input": "2025-05-18T06:24:12.583959Z",
     "iopub.status.busy": "2025-05-18T06:24:12.583777Z",
     "iopub.status.idle": "2025-05-18T06:24:12.586439Z",
     "shell.execute_reply": "2025-05-18T06:24:12.585887Z"
    },
    "papermill": {
     "duration": 0.007506,
     "end_time": "2025-05-18T06:24:12.587325",
     "exception": false,
     "start_time": "2025-05-18T06:24:12.579819",
     "status": "completed"
    },
    "tags": []
   },
   "outputs": [],
   "source": [
    "#q4.hint()\n",
    "#q4.solution()"
   ]
  },
  {
   "cell_type": "markdown",
   "id": "25f9501f",
   "metadata": {
    "papermill": {
     "duration": 0.002849,
     "end_time": "2025-05-18T06:24:12.593226",
     "exception": false,
     "start_time": "2025-05-18T06:24:12.590377",
     "status": "completed"
    },
    "tags": []
   },
   "source": [
    "# Keep going\n",
    "\n",
    "Move on to **[renaming and combining](https://www.kaggle.com/residentmario/renaming-and-combining)**."
   ]
  },
  {
   "cell_type": "markdown",
   "id": "d0f10e3f",
   "metadata": {
    "papermill": {
     "duration": 0.002722,
     "end_time": "2025-05-18T06:24:12.598836",
     "exception": false,
     "start_time": "2025-05-18T06:24:12.596114",
     "status": "completed"
    },
    "tags": []
   },
   "source": [
    "---\n",
    "\n",
    "\n",
    "\n",
    "\n",
    "*Have questions or comments? Visit the [course discussion forum](https://www.kaggle.com/learn/pandas/discussion) to chat with other learners.*"
   ]
  }
 ],
 "metadata": {
  "kaggle": {
   "accelerator": "none",
   "dataSources": [
    {
     "datasetId": 655,
     "sourceId": 1252,
     "sourceType": "datasetVersion"
    },
    {
     "datasetId": 2321,
     "sourceId": 3919,
     "sourceType": "datasetVersion"
    },
    {
     "datasetId": 2894,
     "sourceId": 4877,
     "sourceType": "datasetVersion"
    },
    {
     "datasetId": 3491,
     "sourceId": 5624,
     "sourceType": "datasetVersion"
    },
    {
     "datasetId": 1442,
     "sourceId": 8172,
     "sourceType": "datasetVersion"
    },
    {
     "datasetId": 9366,
     "sourceId": 13206,
     "sourceType": "datasetVersion"
    },
    {
     "datasetId": 179555,
     "sourceId": 403916,
     "sourceType": "datasetVersion"
    },
    {
     "datasetId": 4549,
     "sourceId": 466349,
     "sourceType": "datasetVersion"
    },
    {
     "datasetId": 2478,
     "sourceId": 1151655,
     "sourceType": "datasetVersion"
    },
    {
     "datasetId": 10128,
     "sourceId": 5438389,
     "sourceType": "datasetVersion"
    }
   ],
   "isGpuEnabled": false,
   "isInternetEnabled": false,
   "language": "python",
   "sourceType": "notebook"
  },
  "kernelspec": {
   "display_name": "Python 3",
   "language": "python",
   "name": "python3"
  },
  "language_info": {
   "codemirror_mode": {
    "name": "ipython",
    "version": 3
   },
   "file_extension": ".py",
   "mimetype": "text/x-python",
   "name": "python",
   "nbconvert_exporter": "python",
   "pygments_lexer": "ipython3",
   "version": "3.11.11"
  },
  "papermill": {
   "default_parameters": {},
   "duration": 7.989315,
   "end_time": "2025-05-18T06:24:13.018733",
   "environment_variables": {},
   "exception": null,
   "input_path": "__notebook__.ipynb",
   "output_path": "__notebook__.ipynb",
   "parameters": {},
   "start_time": "2025-05-18T06:24:05.029418",
   "version": "2.6.0"
  }
 },
 "nbformat": 4,
 "nbformat_minor": 5
}
